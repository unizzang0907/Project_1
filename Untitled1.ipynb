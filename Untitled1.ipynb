{
  "nbformat": 4,
  "nbformat_minor": 0,
  "metadata": {
    "colab": {
      "name": "Untitled1.ipynb",
      "provenance": [],
      "authorship_tag": "ABX9TyO/WY0k4knonkg+cvZBCCfn",
      "include_colab_link": true
    },
    "kernelspec": {
      "name": "python3",
      "display_name": "Python 3"
    }
  },
  "cells": [
    {
      "cell_type": "markdown",
      "metadata": {
        "id": "view-in-github",
        "colab_type": "text"
      },
      "source": [
        "<a href=\"https://colab.research.google.com/github/unizzang0907/Project_1/blob/master/Untitled1.ipynb\" target=\"_parent\"><img src=\"https://colab.research.google.com/assets/colab-badge.svg\" alt=\"Open In Colab\"/></a>"
      ]
    },
    {
      "cell_type": "code",
      "metadata": {
        "id": "9S_C_C-BUP_8",
        "colab_type": "code",
        "colab": {}
      },
      "source": [
        ""
      ],
      "execution_count": 0,
      "outputs": []
    },
    {
      "cell_type": "markdown",
      "metadata": {
        "id": "wa7e1_MEUW27",
        "colab_type": "text"
      },
      "source": [
        "1. 언어 영역"
      ]
    },
    {
      "cell_type": "markdown",
      "metadata": {
        "id": "zHTrSgBbco90",
        "colab_type": "text"
      },
      "source": [
        "언어영역에서 가장 유명한 인공지능이 사용되는 분야는 단연코 번역이다. 과거에는 통역사가 없으면 거의 무조건 서로의 언어를 오랜시강 공부해야 서로 소통이 가능한데 요즘은 그렇게 긴시간 공부하지 않더라도 서로 의사소통이 가능해졌다. 유명한 제품으로는 구굴번역기와 파파고가 존재하며 기본적인 사전적 지식을 인공지능이 가지고 있는 상태에서 사람들이 지속적으로 번역을 시도하면 그중 맞는 내용과 틀린내용을 검토받아 번역의 정확성을 점차 늘려간다. 다만 이러한 분야는 개인적으로 좋아하는 영역은 아니기 때문에 흥미가 생기지는 않는다.\n"
      ]
    },
    {
      "cell_type": "markdown",
      "metadata": {
        "id": "sqpBj5z9crf3",
        "colab_type": "text"
      },
      "source": [
        "2. 음성 영역"
      ]
    },
    {
      "cell_type": "markdown",
      "metadata": {
        "id": "9kSlxBRGcs-K",
        "colab_type": "text"
      },
      "source": [
        "\n",
        " 음성 영역에는 항상 부를때는 안나오고 비슷한 소리가나면 등장하는 시리가 있다. 음성인식은 패턴인식 과정이라고 볼 수 있으며 사람이 발성하는  특정 단어의 신호를 패턴화하여 기억한후 음성이 입력되었을때 저장되어있는 패턴중에서 가장 유사한 것을 판단해 낸다. 다만 동일 인물이 같은 단어를 발성하여도 패턴의 길이가 일정하지 않다. 따라서 한번이아닌 여러번의 과정을 거치면서 음향학적 특성이 같은 부분끼리 겹치도록 시간축을 조정하여 판단하게 된다\n"
      ]
    },
    {
      "cell_type": "markdown",
      "metadata": {
        "id": "YDksvuuncvXW",
        "colab_type": "text"
      },
      "source": [
        "3. 이미지와 자율주행"
      ]
    },
    {
      "cell_type": "markdown",
      "metadata": {
        "id": "2JBtuW5hcvep",
        "colab_type": "text"
      },
      "source": [
        "개인적으로 자율 주행의 영역에 이미지관련 인공지능이 포함된다고 생각한다. 동영상은 기본적으로 사진들이 빠르게 넘어가는 것이기 때문에 이 각 사진들을 일정 시간마다 판독해내서 그것을 처리하는 것을 빠르게 처리하면 그것이 영상처리 인공지능인 것이다. 따지고 보면 언어 영역이나 음성영역의 인공지는 역시 자율 주행기술에 포함시킬수도 있지만 이는 부가서비스에 가깝다. 자율 주행 차량에는 수많은 센서가 들어간다. 영상처리 기술은 물론 영상처리가 판독하기 어려운 근거리 판독용 센서, GPS, 충격감지, 빗물감지 등 센서들의 결합체이다. 4학년 캡스톤 수업을 수강할 떄 3조중에 3조가 모두 자율주행 관련 졸업작품을 제출하였다. 그러다보니 직접 만들어본 결과물이 있어 타 분야보다 흥미가 깊을 수 밖에 없다. 그 중에서 영상 처리 센서를 통해 사람의 상의를 특정색으로 입었을 때 그 특정색을 따라가는 자율주행 차량을 제작했다. 색은 대부분의 색을 감지해 낼 수 있었으며 사람이 입고있는 옷의 크기를 사각형모양으로 판별해서 기본 1m 거리를 기준으로 사각형의 크기가 작으면 거리가 멀고 크기가 크면 1m보다 거리가 가깝게 설정하여 사람과의 일정 거리를 유지하도록 설계하였다. 이 영상처리를 기준으로 주변에 각종 센서들을 달아 안정성과 편의성을 증가시켰으며 주행에는 성공하였다. 다만 당시 중앙처리장치의 동작속도의 한계인지 이미지 판독이 1초에 한번씩 판별해버려 속도가 1초에 한번씩 변화하는 다소 느린 동작속도를 가졌다. 그외에도 도로의 흰선을 기준으로 도로의 한가운데로 주행하는 라인트레이서 같은 기능도 사용하였다. "
      ]
    }
  ]
}